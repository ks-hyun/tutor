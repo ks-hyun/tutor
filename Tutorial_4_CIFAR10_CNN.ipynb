{
  "nbformat": 4,
  "nbformat_minor": 0,
  "metadata": {
    "colab": {
      "name": "Tutorial_4_CIFAR10_CNN.ipynb",
      "provenance": [],
      "collapsed_sections": [],
      "include_colab_link": true
    },
    "kernelspec": {
      "name": "python3",
      "display_name": "Python 3"
    }
  },
  "cells": [
    {
      "cell_type": "markdown",
      "metadata": {
        "id": "view-in-github",
        "colab_type": "text"
      },
      "source": [
        "<a href=\"https://colab.research.google.com/github/ks-hyun/tutor/blob/main/Tutorial_4_CIFAR10_CNN.ipynb\" target=\"_parent\"><img src=\"https://colab.research.google.com/assets/colab-badge.svg\" alt=\"Open In Colab\"/></a>"
      ]
    },
    {
      "cell_type": "markdown",
      "metadata": {
        "id": "6_HbfAeYHCJX"
      },
      "source": [
        "## 1. 라이브러리 로드\n",
        "\n",
        "필요한 라이브러리를 로드해줍니다."
      ]
    },
    {
      "cell_type": "code",
      "metadata": {
        "id": "cG4mYxNYGeo4"
      },
      "source": [
        "from __future__ import print_function\n",
        "import tensorflow as tf\n",
        "from tensorflow import keras\n",
        "from tensorflow.keras.datasets import cifar10\n",
        "import numpy as np\n",
        "import matplotlib.pyplot as plt\n",
        "from tqdm.notebook import tqdm"
      ],
      "execution_count": null,
      "outputs": []
    },
    {
      "cell_type": "markdown",
      "metadata": {
        "id": "TBcQv21EHLSv"
      },
      "source": [
        "## 2. 데이터셋 로드\n",
        "\n",
        "이번에도 [CIFAR-10](https://www.cs.toronto.edu/~kriz/cifar.html) 데이터를 사용할 예정입니다. \n",
        "\n",
        "CIFAR-10에 대한 데이터 살펴보기 예제는 [지난 튜토리얼](https://github.com/Intelligence-Engineering-LAB-KU/Deeplearning-Tutorial/blob/master/Tutorial_1_CIFAR10_Softmax.ipynb)를 복습해주세요.\n"
      ]
    },
    {
      "cell_type": "code",
      "metadata": {
        "id": "XvVbxX4xHUo_"
      },
      "source": [
        "(x_train, y_train), (x_test, y_test) = cifar10.load_data()"
      ],
      "execution_count": null,
      "outputs": []
    },
    {
      "cell_type": "markdown",
      "metadata": {
        "id": "1bfpWrR7Atw0"
      },
      "source": [
        "## 3. 클래스 이진코드화\n",
        "\n",
        "[지난 튜토리얼](https://github.com/Intelligence-Engineering-LAB-KU/Deeplearning-Tutorial/blob/master/Tutorial_1_CIFAR10_Softmax.ipynb)에서와 같이, 클래스를 이진코드화 해보겠습니다."
      ]
    },
    {
      "cell_type": "code",
      "metadata": {
        "id": "-7zzRsYTA-tt",
        "colab": {
          "base_uri": "https://localhost:8080/",
          "height": 92
        },
        "outputId": "dbbd0b1e-620b-41d5-d8cf-1af1df4dc5d2"
      },
      "source": [
        "classes = ['plane', 'car', 'bird', 'cat', 'deer', 'dog', 'frog', 'horse', 'ship', 'truck']\n",
        "num_classes = len(classes)\n",
        "\n",
        "print('y_train shape (이진화 전)', y_train.shape)\n",
        "print('y_train[0]:', y_train[0])\n",
        "\n",
        "y_train = keras.utils.to_categorical(y_train, num_classes)\n",
        "y_test = keras.utils.to_categorical(y_test, num_classes)\n",
        "\n",
        "print('y_train shape (이진화 후)', y_train.shape)\n",
        "print('y_train[0]:', y_train[0])"
      ],
      "execution_count": null,
      "outputs": [
        {
          "output_type": "stream",
          "text": [
            "y_train shape (이진화 전) (50000, 1)\n",
            "y_train[0]: [6]\n",
            "y_train shape (이진화 후) (50000, 10)\n",
            "y_train[0]: [0. 0. 0. 0. 0. 0. 1. 0. 0. 0.]\n"
          ],
          "name": "stdout"
        }
      ]
    },
    {
      "cell_type": "markdown",
      "metadata": {
        "id": "XBNCb_E8K2CE"
      },
      "source": [
        "### 4. CIFAR10 분류 CNN 모델 생성\n",
        "\n",
        "4장에서는 Keras의 [Conv2d API](https://www.tensorflow.org/api_docs/python/tf/keras/layers/Conv2D) 등을 이용하여 CIFAR-10 분류를 위한 CNN 기반 모델을 정의해보겠습니다. \n",
        "\n",
        "```python\n",
        "tf.keras.layers.Conv2D(\n",
        "    filters, kernel_size, strides=(1, 1), padding='valid', data_format=None,\n",
        "    dilation_rate=(1, 1), activation=None, use_bias=True,\n",
        "    kernel_initializer='glorot_uniform', bias_initializer='zeros',\n",
        "    kernel_regularizer=None, bias_regularizer=None, activity_regularizer=None,\n",
        "    kernel_constraint=None, bias_constraint=None, **kwargs\n",
        ")\n",
        "```\n",
        "#### 4.1. 모델 아키텍쳐\n",
        "\n",
        "다음과 같은 모델을 구현해보겠습니다.\n",
        "\n",
        "![](https://imgur.com/SDxHEhR.png)"
      ]
    },
    {
      "cell_type": "code",
      "metadata": {
        "id": "djL49yb4I1wB"
      },
      "source": [
        "from tensorflow.keras.layers import MaxPool2D\n",
        "MaxPool2D(pool_size=(2, 2))"
      ],
      "execution_count": null,
      "outputs": []
    },
    {
      "cell_type": "code",
      "metadata": {
        "id": "2SmRiJK_BpXs"
      },
      "source": [
        "from tensorflow.keras.models import Sequential\n",
        "from tensorflow.keras.layers import Conv2D, MaxPool2D, Flatten, Dense\n",
        "from keras.regularizers import l1\n",
        "\n",
        "tf.random.set_seed(2020)\n",
        "\n",
        "model = Sequential([\n",
        "    Conv2D(filters=2,kernel_size=(3,3), padding='same', activation='relu', \n",
        "           input_shape=(32, 32, 3)),\n",
        "    MaxPool2D(pool_size=(2, 2)),\n",
        "    Conv2D(filters=4,kernel_size=(3,3), padding='same', activation='relu'),\n",
        "    MaxPool2D(pool_size=(2, 2)),\n",
        "    Conv2D(filters=8,kernel_size=(3,3), padding='same', activation='relu'),\n",
        "    MaxPool2D(pool_size=(2, 2)),\n",
        "    Conv2D(filters=16,kernel_size=(3,3), padding='same', activation='relu'),\n",
        "    MaxPool2D(pool_size=(2, 2)),\n",
        "    Conv2D(filters=32,kernel_size=(3,3), padding='same', activation='relu'),\n",
        "    MaxPool2D(pool_size=(2, 2)),\n",
        "    Conv2D(filters=64,kernel_size=(3,3), padding='same', activation='relu'),\n",
        "    Flatten(),\n",
        "    Dense(10, activation='softmax')])"
      ],
      "execution_count": null,
      "outputs": []
    },
    {
      "cell_type": "markdown",
      "metadata": {
        "id": "pE16uLSB7OFa"
      },
      "source": [
        "## 5. 모델 학습\n",
        "\n",
        "이제 모델을 학습시켜보겠습니다."
      ]
    },
    {
      "cell_type": "code",
      "metadata": {
        "id": "gYm3uUDTuqvX",
        "colab": {
          "base_uri": "https://localhost:8080/",
          "height": 409
        },
        "outputId": "7b7ba210-afa3-4fb5-8666-2fab98092941"
      },
      "source": [
        "tf.random.set_seed(2020)\n",
        "\n",
        "opt = keras.optimizers.Adam()\n",
        "\n",
        "# 모델 생성\n",
        "model.compile(loss='categorical_crossentropy',\n",
        "              optimizer=opt,\n",
        "              metrics=['accuracy'])\n",
        "\n",
        "norm_x_train = x_train.astype('float32')\n",
        "norm_x_test = x_test.astype('float32')\n",
        "norm_x_train /= 255\n",
        "norm_x_test /= 255\n",
        "\n",
        "model.fit(norm_x_train, y_train,\n",
        "          batch_size=32,\n",
        "          epochs=10,\n",
        "          validation_data=(norm_x_test, y_test),\n",
        "          shuffle=True)"
      ],
      "execution_count": null,
      "outputs": [
        {
          "output_type": "stream",
          "text": [
            "Epoch 1/10\n",
            "1563/1563 [==============================] - 36s 23ms/step - loss: 1.9076 - accuracy: 0.2666 - val_loss: 1.7090 - val_accuracy: 0.3555\n",
            "Epoch 2/10\n",
            "1563/1563 [==============================] - 36s 23ms/step - loss: 1.6619 - accuracy: 0.3758 - val_loss: 1.6284 - val_accuracy: 0.3920\n",
            "Epoch 3/10\n",
            "1563/1563 [==============================] - 37s 24ms/step - loss: 1.5942 - accuracy: 0.4089 - val_loss: 1.5536 - val_accuracy: 0.4243\n",
            "Epoch 4/10\n",
            "1563/1563 [==============================] - 37s 24ms/step - loss: 1.5433 - accuracy: 0.4329 - val_loss: 1.5119 - val_accuracy: 0.4448\n",
            "Epoch 5/10\n",
            "1563/1563 [==============================] - 38s 24ms/step - loss: 1.5067 - accuracy: 0.4478 - val_loss: 1.4775 - val_accuracy: 0.4590\n",
            "Epoch 6/10\n",
            "1563/1563 [==============================] - 39s 25ms/step - loss: 1.4768 - accuracy: 0.4628 - val_loss: 1.4609 - val_accuracy: 0.4634\n",
            "Epoch 7/10\n",
            "1563/1563 [==============================] - 36s 23ms/step - loss: 1.4505 - accuracy: 0.4747 - val_loss: 1.4300 - val_accuracy: 0.4809\n",
            "Epoch 8/10\n",
            "1563/1563 [==============================] - 36s 23ms/step - loss: 1.4307 - accuracy: 0.4819 - val_loss: 1.4151 - val_accuracy: 0.4877\n",
            "Epoch 9/10\n",
            "1563/1563 [==============================] - 36s 23ms/step - loss: 1.4114 - accuracy: 0.4895 - val_loss: 1.4086 - val_accuracy: 0.4865\n",
            "Epoch 10/10\n",
            "1563/1563 [==============================] - 37s 24ms/step - loss: 1.3940 - accuracy: 0.4965 - val_loss: 1.3923 - val_accuracy: 0.4928\n"
          ],
          "name": "stdout"
        },
        {
          "output_type": "execute_result",
          "data": {
            "text/plain": [
              "<tensorflow.python.keras.callbacks.History at 0x7fe52c180240>"
            ]
          },
          "metadata": {
            "tags": []
          },
          "execution_count": 9
        }
      ]
    },
    {
      "cell_type": "markdown",
      "metadata": {
        "id": "tqQgvFez_jbf"
      },
      "source": [
        "## 6. 모델 성능 테스트\n",
        "\n",
        "모델의 성능을 테스트해보겠습니다."
      ]
    },
    {
      "cell_type": "code",
      "metadata": {
        "id": "txhrRv1X_kJd",
        "colab": {
          "base_uri": "https://localhost:8080/",
          "height": 73
        },
        "outputId": "bd343ca6-32c9-4225-a89e-74820214d877"
      },
      "source": [
        "scores = model.evaluate(norm_x_test, y_test, verbose=1)\n",
        "print('Test loss:', scores[0])\n",
        "print('Test accuracy:', scores[1])"
      ],
      "execution_count": null,
      "outputs": [
        {
          "output_type": "stream",
          "text": [
            "313/313 [==============================] - 3s 11ms/step - loss: 1.4369 - accuracy: 0.5114\n",
            "Test loss: 1.4369152784347534\n",
            "Test accuracy: 0.5113999843597412\n"
          ],
          "name": "stdout"
        }
      ]
    },
    {
      "cell_type": "markdown",
      "metadata": {
        "id": "WHUKMKgqHcIp"
      },
      "source": [
        "정확도가 50% 정도되는 간단한 모델을 만들어보았습니다.\n",
        "\n",
        "## 7. 해보기\n",
        "\n",
        "모델 부분을 수정하여서, 테스트 성능이 60% 이상 나오는 모델을 만들어보세요!"
      ]
    },
    {
      "cell_type": "code",
      "metadata": {
        "id": "A-jKd2VLHtnY",
        "colab": {
          "base_uri": "https://localhost:8080/",
          "height": 447
        },
        "outputId": "6e10919f-dcb1-467f-9976-da2216166e2e"
      },
      "source": [
        "tf.random.set_seed(2020)\n",
        "\n",
        "##  이 부분을 수정하세요 ## 이 부분을 수정하세요 ## 이 부분을 수정하세요\n",
        "my_model = #TODO-LIST\n",
        "## 이 부분을 수정하세요 ## 이 부분을 수정하세요 ## 이 부분을 수정하세요\n",
        "\n",
        "opt = keras.optimizers.Adam()\n",
        "\n",
        "my_model.compile(loss='categorical_crossentropy',\n",
        "              optimizer=opt,\n",
        "              metrics=['accuracy'])\n",
        "\n",
        "my_model.fit(norm_x_train, y_train,\n",
        "          batch_size=32,\n",
        "          epochs=10,\n",
        "          validation_data=(norm_x_test, y_test),\n",
        "          shuffle=True)\n",
        "\n",
        "scores = my_model.evaluate(norm_x_test, y_test, verbose=1)\n",
        "print('Test loss:', scores[0])\n",
        "print('Test accuracy:', scores[1])"
      ],
      "execution_count": null,
      "outputs": [
        {
          "output_type": "stream",
          "text": [
            "Epoch 1/10\n",
            "1563/1563 [==============================] - 24s 15ms/step - loss: 1.8882 - accuracy: 0.3448 - val_loss: 1.7552 - val_accuracy: 0.3921\n",
            "Epoch 2/10\n",
            "1563/1563 [==============================] - 24s 15ms/step - loss: 1.6867 - accuracy: 0.4188 - val_loss: 1.6567 - val_accuracy: 0.4231\n",
            "Epoch 3/10\n",
            "1563/1563 [==============================] - 24s 15ms/step - loss: 1.6314 - accuracy: 0.4386 - val_loss: 1.6256 - val_accuracy: 0.4391\n",
            "Epoch 4/10\n",
            "1563/1563 [==============================] - 24s 15ms/step - loss: 1.6053 - accuracy: 0.4476 - val_loss: 1.6128 - val_accuracy: 0.4436\n",
            "Epoch 5/10\n",
            "1563/1563 [==============================] - 27s 18ms/step - loss: 1.5919 - accuracy: 0.4519 - val_loss: 1.6034 - val_accuracy: 0.4430\n",
            "Epoch 6/10\n",
            "1563/1563 [==============================] - 24s 15ms/step - loss: 1.5816 - accuracy: 0.4566 - val_loss: 1.6066 - val_accuracy: 0.4446\n",
            "Epoch 7/10\n",
            "1563/1563 [==============================] - 24s 15ms/step - loss: 1.5739 - accuracy: 0.4594 - val_loss: 1.5984 - val_accuracy: 0.4504\n",
            "Epoch 8/10\n",
            "1563/1563 [==============================] - 24s 16ms/step - loss: 1.5676 - accuracy: 0.4626 - val_loss: 1.5967 - val_accuracy: 0.4452\n",
            "Epoch 9/10\n",
            "1563/1563 [==============================] - 24s 15ms/step - loss: 1.5635 - accuracy: 0.4635 - val_loss: 1.5958 - val_accuracy: 0.4500\n",
            "Epoch 10/10\n",
            "1563/1563 [==============================] - 24s 15ms/step - loss: 1.5579 - accuracy: 0.4650 - val_loss: 1.6085 - val_accuracy: 0.4384\n",
            "313/313 [==============================] - 3s 8ms/step - loss: 1.6085 - accuracy: 0.4384\n",
            "Test loss: 1.608459234237671\n",
            "Test accuracy: 0.438400000333786\n"
          ],
          "name": "stdout"
        }
      ]
    },
    {
      "cell_type": "markdown",
      "metadata": {
        "id": "E7wRS44v_Ikh"
      },
      "source": [
        "\n",
        "\n",
        "## Reference\n",
        "\n",
        "- [cs231n](http://cs231n.github.io/)\n",
        "- [Keras tutorial on CIFAR-10](https://github.com/keras-team/keras/blob/master/examples/cifar10_cnn.py)"
      ]
    }
  ]
}